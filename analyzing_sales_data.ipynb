{
 "cells": [
  {
   "attachments": {},
   "cell_type": "markdown",
   "metadata": {
    "datalore": {
     "hide_input_from_viewers": false,
     "hide_output_from_viewers": false,
     "node_id": "qhxzYgbuXPu0AOuJgGNNBj",
     "report_properties": {
      "relativeY": 0,
      "rowId": "nkB9lC6plJ2PM6W8tmNOQU"
     },
     "type": "MD"
    }
   },
   "source": [
    "# Final Project - Analyzing Sales Data\n",
    "\n",
    "**Date**: 22 August 2024\n",
    "\n",
    "**Author**: `Terra Keeratinavanant`\n",
    "\n",
    "**Course**: Data Science Bootcamp by DataRockie"
   ]
  },
  {
   "cell_type": "code",
   "execution_count": 1,
   "metadata": {},
   "outputs": [],
   "source": [
    "import pandas as pd\n",
    "import os\n",
    "import matplotlib.pyplot as plt"
   ]
  },
  {
   "attachments": {},
   "cell_type": "markdown",
   "metadata": {
    "datalore": {
     "hide_input_from_viewers": true,
     "hide_output_from_viewers": false,
     "node_id": "Djo2GPWho96NwYL1BC2mNN",
     "report_properties": {
      "relativeY": 0,
      "rowId": "VMJLIDFVuiJCN9EtR0ukXW"
     },
     "type": "MD"
    }
   },
   "source": [
    "## Data Exploration"
   ]
  },
  {
   "cell_type": "code",
   "execution_count": 2,
   "metadata": {
    "datalore": {
     "hide_input_from_viewers": false,
     "hide_output_from_viewers": false,
     "node_id": "oi7JEbsK4bDa5wRmRm5ykR",
     "report_properties": {
      "relativeY": 0,
      "rowId": "jNGkwOnEPTjFDvv9qicomp"
     },
     "type": "CODE"
    }
   },
   "outputs": [
    {
     "data": {
      "text/html": [
       "<div>\n",
       "<style scoped>\n",
       "    .dataframe tbody tr th:only-of-type {\n",
       "        vertical-align: middle;\n",
       "    }\n",
       "\n",
       "    .dataframe tbody tr th {\n",
       "        vertical-align: top;\n",
       "    }\n",
       "\n",
       "    .dataframe thead th {\n",
       "        text-align: right;\n",
       "    }\n",
       "</style>\n",
       "<table border=\"1\" class=\"dataframe\">\n",
       "  <thead>\n",
       "    <tr style=\"text-align: right;\">\n",
       "      <th></th>\n",
       "      <th>Row ID</th>\n",
       "      <th>Order ID</th>\n",
       "      <th>Order Date</th>\n",
       "      <th>Ship Date</th>\n",
       "      <th>Ship Mode</th>\n",
       "      <th>Customer ID</th>\n",
       "      <th>Customer Name</th>\n",
       "      <th>Segment</th>\n",
       "      <th>Country/Region</th>\n",
       "      <th>City</th>\n",
       "      <th>...</th>\n",
       "      <th>Postal Code</th>\n",
       "      <th>Region</th>\n",
       "      <th>Product ID</th>\n",
       "      <th>Category</th>\n",
       "      <th>Sub-Category</th>\n",
       "      <th>Product Name</th>\n",
       "      <th>Sales</th>\n",
       "      <th>Quantity</th>\n",
       "      <th>Discount</th>\n",
       "      <th>Profit</th>\n",
       "    </tr>\n",
       "  </thead>\n",
       "  <tbody>\n",
       "    <tr>\n",
       "      <th>0</th>\n",
       "      <td>1</td>\n",
       "      <td>CA-2019-152156</td>\n",
       "      <td>11/8/2019</td>\n",
       "      <td>11/11/2019</td>\n",
       "      <td>Second Class</td>\n",
       "      <td>CG-12520</td>\n",
       "      <td>Claire Gute</td>\n",
       "      <td>Consumer</td>\n",
       "      <td>United States</td>\n",
       "      <td>Henderson</td>\n",
       "      <td>...</td>\n",
       "      <td>42420.0</td>\n",
       "      <td>South</td>\n",
       "      <td>FUR-BO-10001798</td>\n",
       "      <td>Furniture</td>\n",
       "      <td>Bookcases</td>\n",
       "      <td>Bush Somerset Collection Bookcase</td>\n",
       "      <td>261.9600</td>\n",
       "      <td>2</td>\n",
       "      <td>0.00</td>\n",
       "      <td>41.9136</td>\n",
       "    </tr>\n",
       "    <tr>\n",
       "      <th>1</th>\n",
       "      <td>2</td>\n",
       "      <td>CA-2019-152156</td>\n",
       "      <td>11/8/2019</td>\n",
       "      <td>11/11/2019</td>\n",
       "      <td>Second Class</td>\n",
       "      <td>CG-12520</td>\n",
       "      <td>Claire Gute</td>\n",
       "      <td>Consumer</td>\n",
       "      <td>United States</td>\n",
       "      <td>Henderson</td>\n",
       "      <td>...</td>\n",
       "      <td>42420.0</td>\n",
       "      <td>South</td>\n",
       "      <td>FUR-CH-10000454</td>\n",
       "      <td>Furniture</td>\n",
       "      <td>Chairs</td>\n",
       "      <td>Hon Deluxe Fabric Upholstered Stacking Chairs,...</td>\n",
       "      <td>731.9400</td>\n",
       "      <td>3</td>\n",
       "      <td>0.00</td>\n",
       "      <td>219.5820</td>\n",
       "    </tr>\n",
       "    <tr>\n",
       "      <th>2</th>\n",
       "      <td>3</td>\n",
       "      <td>CA-2019-138688</td>\n",
       "      <td>6/12/2019</td>\n",
       "      <td>6/16/2019</td>\n",
       "      <td>Second Class</td>\n",
       "      <td>DV-13045</td>\n",
       "      <td>Darrin Van Huff</td>\n",
       "      <td>Corporate</td>\n",
       "      <td>United States</td>\n",
       "      <td>Los Angeles</td>\n",
       "      <td>...</td>\n",
       "      <td>90036.0</td>\n",
       "      <td>West</td>\n",
       "      <td>OFF-LA-10000240</td>\n",
       "      <td>Office Supplies</td>\n",
       "      <td>Labels</td>\n",
       "      <td>Self-Adhesive Address Labels for Typewriters b...</td>\n",
       "      <td>14.6200</td>\n",
       "      <td>2</td>\n",
       "      <td>0.00</td>\n",
       "      <td>6.8714</td>\n",
       "    </tr>\n",
       "    <tr>\n",
       "      <th>3</th>\n",
       "      <td>4</td>\n",
       "      <td>US-2018-108966</td>\n",
       "      <td>10/11/2018</td>\n",
       "      <td>10/18/2018</td>\n",
       "      <td>Standard Class</td>\n",
       "      <td>SO-20335</td>\n",
       "      <td>Sean O'Donnell</td>\n",
       "      <td>Consumer</td>\n",
       "      <td>United States</td>\n",
       "      <td>Fort Lauderdale</td>\n",
       "      <td>...</td>\n",
       "      <td>33311.0</td>\n",
       "      <td>South</td>\n",
       "      <td>FUR-TA-10000577</td>\n",
       "      <td>Furniture</td>\n",
       "      <td>Tables</td>\n",
       "      <td>Bretford CR4500 Series Slim Rectangular Table</td>\n",
       "      <td>957.5775</td>\n",
       "      <td>5</td>\n",
       "      <td>0.45</td>\n",
       "      <td>-383.0310</td>\n",
       "    </tr>\n",
       "    <tr>\n",
       "      <th>4</th>\n",
       "      <td>5</td>\n",
       "      <td>US-2018-108966</td>\n",
       "      <td>10/11/2018</td>\n",
       "      <td>10/18/2018</td>\n",
       "      <td>Standard Class</td>\n",
       "      <td>SO-20335</td>\n",
       "      <td>Sean O'Donnell</td>\n",
       "      <td>Consumer</td>\n",
       "      <td>United States</td>\n",
       "      <td>Fort Lauderdale</td>\n",
       "      <td>...</td>\n",
       "      <td>33311.0</td>\n",
       "      <td>South</td>\n",
       "      <td>OFF-ST-10000760</td>\n",
       "      <td>Office Supplies</td>\n",
       "      <td>Storage</td>\n",
       "      <td>Eldon Fold 'N Roll Cart System</td>\n",
       "      <td>22.3680</td>\n",
       "      <td>2</td>\n",
       "      <td>0.20</td>\n",
       "      <td>2.5164</td>\n",
       "    </tr>\n",
       "  </tbody>\n",
       "</table>\n",
       "<p>5 rows × 21 columns</p>\n",
       "</div>"
      ],
      "text/plain": [
       "   Row ID        Order ID  Order Date   Ship Date       Ship Mode Customer ID  \\\n",
       "0       1  CA-2019-152156   11/8/2019  11/11/2019    Second Class    CG-12520   \n",
       "1       2  CA-2019-152156   11/8/2019  11/11/2019    Second Class    CG-12520   \n",
       "2       3  CA-2019-138688   6/12/2019   6/16/2019    Second Class    DV-13045   \n",
       "3       4  US-2018-108966  10/11/2018  10/18/2018  Standard Class    SO-20335   \n",
       "4       5  US-2018-108966  10/11/2018  10/18/2018  Standard Class    SO-20335   \n",
       "\n",
       "     Customer Name    Segment Country/Region             City  ...  \\\n",
       "0      Claire Gute   Consumer  United States        Henderson  ...   \n",
       "1      Claire Gute   Consumer  United States        Henderson  ...   \n",
       "2  Darrin Van Huff  Corporate  United States      Los Angeles  ...   \n",
       "3   Sean O'Donnell   Consumer  United States  Fort Lauderdale  ...   \n",
       "4   Sean O'Donnell   Consumer  United States  Fort Lauderdale  ...   \n",
       "\n",
       "  Postal Code  Region       Product ID         Category Sub-Category  \\\n",
       "0     42420.0   South  FUR-BO-10001798        Furniture    Bookcases   \n",
       "1     42420.0   South  FUR-CH-10000454        Furniture       Chairs   \n",
       "2     90036.0    West  OFF-LA-10000240  Office Supplies       Labels   \n",
       "3     33311.0   South  FUR-TA-10000577        Furniture       Tables   \n",
       "4     33311.0   South  OFF-ST-10000760  Office Supplies      Storage   \n",
       "\n",
       "                                        Product Name     Sales  Quantity  \\\n",
       "0                  Bush Somerset Collection Bookcase  261.9600         2   \n",
       "1  Hon Deluxe Fabric Upholstered Stacking Chairs,...  731.9400         3   \n",
       "2  Self-Adhesive Address Labels for Typewriters b...   14.6200         2   \n",
       "3      Bretford CR4500 Series Slim Rectangular Table  957.5775         5   \n",
       "4                     Eldon Fold 'N Roll Cart System   22.3680         2   \n",
       "\n",
       "   Discount    Profit  \n",
       "0      0.00   41.9136  \n",
       "1      0.00  219.5820  \n",
       "2      0.00    6.8714  \n",
       "3      0.45 -383.0310  \n",
       "4      0.20    2.5164  \n",
       "\n",
       "[5 rows x 21 columns]"
      ]
     },
     "execution_count": 2,
     "metadata": {},
     "output_type": "execute_result"
    }
   ],
   "source": [
    "# import data\n",
    "df = pd.read_csv(\"sample-store.csv\")\n",
    "\n",
    "# preview top 5 rows\n",
    "df.head()"
   ]
  },
  {
   "cell_type": "code",
   "execution_count": 3,
   "metadata": {
    "datalore": {
     "hide_input_from_viewers": false,
     "hide_output_from_viewers": false,
     "node_id": "ZJ9IZwBnDIIzt6W5kBFIYd",
     "report_properties": {
      "relativeY": 0,
      "rowId": "35Haorw4HFj6OhJztgKpSA"
     },
     "type": "CODE"
    }
   },
   "outputs": [
    {
     "data": {
      "text/plain": [
       "(9994, 21)"
      ]
     },
     "execution_count": 3,
     "metadata": {},
     "output_type": "execute_result"
    }
   ],
   "source": [
    "\n",
    "df.shape"
   ]
  },
  {
   "cell_type": "code",
   "execution_count": 4,
   "metadata": {
    "datalore": {
     "hide_input_from_viewers": false,
     "hide_output_from_viewers": false,
     "node_id": "zwdYm1pmAMn1B4NmR8zFE5",
     "report_properties": {
      "relativeY": 0,
      "rowId": "H0bpoU88zMWotPKkz1OTIO"
     },
     "type": "CODE"
    }
   },
   "outputs": [
    {
     "name": "stdout",
     "output_type": "stream",
     "text": [
      "<class 'pandas.core.frame.DataFrame'>\n",
      "RangeIndex: 9994 entries, 0 to 9993\n",
      "Data columns (total 21 columns):\n",
      " #   Column          Non-Null Count  Dtype  \n",
      "---  ------          --------------  -----  \n",
      " 0   Row ID          9994 non-null   int64  \n",
      " 1   Order ID        9994 non-null   object \n",
      " 2   Order Date      9994 non-null   object \n",
      " 3   Ship Date       9994 non-null   object \n",
      " 4   Ship Mode       9994 non-null   object \n",
      " 5   Customer ID     9994 non-null   object \n",
      " 6   Customer Name   9994 non-null   object \n",
      " 7   Segment         9994 non-null   object \n",
      " 8   Country/Region  9994 non-null   object \n",
      " 9   City            9994 non-null   object \n",
      " 10  State           9994 non-null   object \n",
      " 11  Postal Code     9983 non-null   float64\n",
      " 12  Region          9994 non-null   object \n",
      " 13  Product ID      9994 non-null   object \n",
      " 14  Category        9994 non-null   object \n",
      " 15  Sub-Category    9994 non-null   object \n",
      " 16  Product Name    9994 non-null   object \n",
      " 17  Sales           9994 non-null   float64\n",
      " 18  Quantity        9994 non-null   int64  \n",
      " 19  Discount        9994 non-null   float64\n",
      " 20  Profit          9994 non-null   float64\n",
      "dtypes: float64(4), int64(2), object(15)\n",
      "memory usage: 1.6+ MB\n"
     ]
    }
   ],
   "source": [
    "\n",
    "df.info()"
   ]
  },
  {
   "attachments": {},
   "cell_type": "markdown",
   "metadata": {
    "datalore": {
     "hide_input_from_viewers": true,
     "hide_output_from_viewers": false,
     "node_id": "GxSUjtX0Two2j0sWt7i8mE",
     "report_properties": {
      "relativeY": 0,
      "rowId": "msYFVPNshgSvmEgTClhOLV"
     },
     "type": "MD"
    }
   },
   "source": [
    "## Data Preparation"
   ]
  },
  {
   "cell_type": "code",
   "execution_count": 5,
   "metadata": {
    "datalore": {
     "hide_input_from_viewers": false,
     "hide_output_from_viewers": false,
     "node_id": "o6VJ4XDhx4hfYaIcpJFtgP",
     "report_properties": {
      "relativeY": 0,
      "rowId": "sQhVD4NOjCQCQEa1MQ6HQq"
     },
     "type": "CODE"
    }
   },
   "outputs": [
    {
     "data": {
      "text/html": [
       "<div>\n",
       "<style scoped>\n",
       "    .dataframe tbody tr th:only-of-type {\n",
       "        vertical-align: middle;\n",
       "    }\n",
       "\n",
       "    .dataframe tbody tr th {\n",
       "        vertical-align: top;\n",
       "    }\n",
       "\n",
       "    .dataframe thead th {\n",
       "        text-align: right;\n",
       "    }\n",
       "</style>\n",
       "<table border=\"1\" class=\"dataframe\">\n",
       "  <thead>\n",
       "    <tr style=\"text-align: right;\">\n",
       "      <th></th>\n",
       "      <th>Order Date</th>\n",
       "      <th>Ship Date</th>\n",
       "    </tr>\n",
       "  </thead>\n",
       "  <tbody>\n",
       "    <tr>\n",
       "      <th>0</th>\n",
       "      <td>2019-11-08</td>\n",
       "      <td>2019-11-11</td>\n",
       "    </tr>\n",
       "    <tr>\n",
       "      <th>1</th>\n",
       "      <td>2019-11-08</td>\n",
       "      <td>2019-11-11</td>\n",
       "    </tr>\n",
       "    <tr>\n",
       "      <th>2</th>\n",
       "      <td>2019-06-12</td>\n",
       "      <td>2019-06-16</td>\n",
       "    </tr>\n",
       "    <tr>\n",
       "      <th>3</th>\n",
       "      <td>2018-10-11</td>\n",
       "      <td>2018-10-18</td>\n",
       "    </tr>\n",
       "    <tr>\n",
       "      <th>4</th>\n",
       "      <td>2018-10-11</td>\n",
       "      <td>2018-10-18</td>\n",
       "    </tr>\n",
       "    <tr>\n",
       "      <th>...</th>\n",
       "      <td>...</td>\n",
       "      <td>...</td>\n",
       "    </tr>\n",
       "    <tr>\n",
       "      <th>9989</th>\n",
       "      <td>2017-01-21</td>\n",
       "      <td>2017-01-23</td>\n",
       "    </tr>\n",
       "    <tr>\n",
       "      <th>9990</th>\n",
       "      <td>2020-02-26</td>\n",
       "      <td>2020-03-03</td>\n",
       "    </tr>\n",
       "    <tr>\n",
       "      <th>9991</th>\n",
       "      <td>2020-02-26</td>\n",
       "      <td>2020-03-03</td>\n",
       "    </tr>\n",
       "    <tr>\n",
       "      <th>9992</th>\n",
       "      <td>2020-02-26</td>\n",
       "      <td>2020-03-03</td>\n",
       "    </tr>\n",
       "    <tr>\n",
       "      <th>9993</th>\n",
       "      <td>2020-05-04</td>\n",
       "      <td>2020-05-09</td>\n",
       "    </tr>\n",
       "  </tbody>\n",
       "</table>\n",
       "<p>9994 rows × 2 columns</p>\n",
       "</div>"
      ],
      "text/plain": [
       "     Order Date  Ship Date\n",
       "0    2019-11-08 2019-11-11\n",
       "1    2019-11-08 2019-11-11\n",
       "2    2019-06-12 2019-06-16\n",
       "3    2018-10-11 2018-10-18\n",
       "4    2018-10-11 2018-10-18\n",
       "...         ...        ...\n",
       "9989 2017-01-21 2017-01-23\n",
       "9990 2020-02-26 2020-03-03\n",
       "9991 2020-02-26 2020-03-03\n",
       "9992 2020-02-26 2020-03-03\n",
       "9993 2020-05-04 2020-05-09\n",
       "\n",
       "[9994 rows x 2 columns]"
      ]
     },
     "execution_count": 5,
     "metadata": {},
     "output_type": "execute_result"
    }
   ],
   "source": [
    "# convert columns 'Order Date' and 'Ship Date' to datetime\n",
    "df['Order Date'] = pd.to_datetime(df['Order Date'], format='%m/%d/%Y')\n",
    "df['Ship Date'] = pd.to_datetime(df['Ship Date'], format='%m/%d/%Y')\n",
    "df[['Order Date', 'Ship Date']]"
   ]
  },
  {
   "cell_type": "code",
   "execution_count": 6,
   "metadata": {
    "datalore": {
     "hide_input_from_viewers": false,
     "hide_output_from_viewers": false,
     "node_id": "1K8iVfmiB8HMAygBnF9eyT",
     "report_properties": {
      "relativeY": 0,
      "rowId": "Wh5MPoVgeRzbtKHlY1rbi8"
     },
     "type": "CODE"
    }
   },
   "outputs": [
    {
     "data": {
      "text/plain": [
       "Postal Code       11\n",
       "Order ID           0\n",
       "Order Date         0\n",
       "Ship Date          0\n",
       "Row ID             0\n",
       "Ship Mode          0\n",
       "Customer ID        0\n",
       "Segment            0\n",
       "Customer Name      0\n",
       "Country/Region     0\n",
       "City               0\n",
       "State              0\n",
       "Region             0\n",
       "Product ID         0\n",
       "Category           0\n",
       "Sub-Category       0\n",
       "Product Name       0\n",
       "Sales              0\n",
       "Quantity           0\n",
       "Discount           0\n",
       "Profit             0\n",
       "dtype: int64"
      ]
     },
     "execution_count": 6,
     "metadata": {},
     "output_type": "execute_result"
    }
   ],
   "source": [
    "# check missing values\n",
    "df.isna().sum().sort_values(ascending=False)"
   ]
  },
  {
   "cell_type": "code",
   "execution_count": 7,
   "metadata": {
    "datalore": {
     "hide_input_from_viewers": false,
     "hide_output_from_viewers": true,
     "node_id": "naCfiZbagQ6QMoBH4rY4be",
     "report_properties": {
      "relativeY": 0,
      "rowId": "YpTzpmxYUHdgUKEJJLBYU2"
     },
     "type": "CODE"
    }
   },
   "outputs": [
    {
     "name": "stdout",
     "output_type": "stream",
     "text": [
      "many-to-many\n"
     ]
    }
   ],
   "source": [
    "# Find the relationship between Postal Code and City (which is the smallest unit closest to Postal Code)\n",
    "# to see if we can impute missing values with specificic cities\n",
    "one_to_one_or_many_to_one = df.groupby('Postal Code')['City'].nunique().max() == 1\n",
    "one_to_many = df.groupby('City')['Postal Code'].nunique().max() == 1\n",
    "\n",
    "if one_to_one_or_many_to_one and one_to_many:\n",
    "    print(\"one-to-one\")\n",
    "elif one_to_one_or_many_to_one and one_to_many == False:\n",
    "    print(\"many_to_one\")\n",
    "elif one_to_one_or_many_to_one == False and one_to_many:\n",
    "    print(\"one_to_many\")\n",
    "else:\n",
    "    print(\"many-to-many\")"
   ]
  },
  {
   "cell_type": "code",
   "execution_count": 8,
   "metadata": {
    "datalore": {
     "hide_input_from_viewers": false,
     "hide_output_from_viewers": false,
     "node_id": "rSETZ7fonib9U4aGpfcJLD",
     "report_properties": {
      "relativeY": 0,
      "rowId": "PnLWbcIhSij46ugZxY9YqT"
     },
     "type": "CODE"
    }
   },
   "outputs": [
    {
     "data": {
      "text/plain": [
       "Row ID             0\n",
       "Order ID           0\n",
       "Order Date         0\n",
       "Ship Date          0\n",
       "Ship Mode          0\n",
       "Customer ID        0\n",
       "Customer Name      0\n",
       "Segment            0\n",
       "Country/Region     0\n",
       "City               0\n",
       "State              0\n",
       "Postal Code       11\n",
       "Region             0\n",
       "Product ID         0\n",
       "Category           0\n",
       "Sub-Category       0\n",
       "Product Name       0\n",
       "Sales              0\n",
       "Quantity           0\n",
       "Discount           0\n",
       "Profit             0\n",
       "dtype: int64"
      ]
     },
     "execution_count": 8,
     "metadata": {},
     "output_type": "execute_result"
    }
   ],
   "source": [
    "# Drop missing values and check\n",
    "df.dropna(axis=1)\n",
    "df.isna().sum()"
   ]
  },
  {
   "attachments": {},
   "cell_type": "markdown",
   "metadata": {
    "datalore": {
     "hide_input_from_viewers": false,
     "hide_output_from_viewers": false,
     "node_id": "NUTaeGJWV3wU84CohpjIEe",
     "report_properties": {
      "relativeY": 0,
      "rowId": "iN4dtPC7YHeurUln067Mxv"
     },
     "type": "MD"
    }
   },
   "source": [
    "## Data Analysis"
   ]
  },
  {
   "cell_type": "markdown",
   "metadata": {},
   "source": [
    "1. Your friend ask for all `California` data in csv format"
   ]
  },
  {
   "cell_type": "code",
   "execution_count": 9,
   "metadata": {
    "datalore": {
     "hide_input_from_viewers": false,
     "hide_output_from_viewers": false,
     "node_id": "EQsVpUMoaJkEaAM6IMIM21",
     "report_properties": {
      "relativeY": 0,
      "rowId": "IMKgVePxmKuHCXCkPzVyw8"
     },
     "type": "CODE"
    }
   },
   "outputs": [
    {
     "name": "stdout",
     "output_type": "stream",
     "text": [
      "File saved as california_data_just_for_you.csv\n"
     ]
    }
   ],
   "source": [
    "# use os.path.exists to prevent overwriting\n",
    "\n",
    "file_path = 'california_data_just_for_you.csv'\n",
    "\n",
    "if not os.path.exists(file_path):\n",
    "    df.loc[df['State'] == 'California', :].to_csv(file_path, index=False)\n",
    "    print(f\"File saved as {file_path}\")\n",
    "else:\n",
    "    print(f\"File {file_path} already exists, not overwriting.\")"
   ]
  },
  {
   "cell_type": "markdown",
   "metadata": {},
   "source": [
    "2. Your friend ask for count of order ID per category and subcategory in `California` and `Texas` in 2017"
   ]
  },
  {
   "cell_type": "code",
   "execution_count": 10,
   "metadata": {
    "datalore": {
     "hide_input_from_viewers": false,
     "hide_output_from_viewers": false,
     "node_id": "HrO8XrWUDAVOoBcKicyevQ",
     "report_properties": {
      "relativeY": 0,
      "rowId": "IKju2OgKiBbw4rJiWXr2w6"
     },
     "type": "CODE"
    }
   },
   "outputs": [
    {
     "name": "stdout",
     "output_type": "stream",
     "text": [
      "                              Order ID\n",
      "Category        Sub-Category          \n",
      "Furniture       Bookcases           16\n",
      "                Chairs              48\n",
      "                Furnishings         58\n",
      "                Tables              24\n",
      "Office Supplies Appliances          25\n",
      "                Art                 53\n",
      "                Binders             79\n",
      "                Envelopes           18\n",
      "                Fasteners           18\n",
      "                Labels              25\n",
      "                Paper               87\n",
      "                Storage             49\n",
      "                Supplies            16\n",
      "Technology      Accessories         46\n",
      "                Copiers              2\n",
      "                Machines            11\n",
      "                Phones              57\n",
      "All                                632\n",
      "           Category Sub-Category  Count\n",
      "0         Furniture    Bookcases     16\n",
      "1         Furniture       Chairs     48\n",
      "2         Furniture  Furnishings     58\n",
      "3         Furniture       Tables     24\n",
      "4   Office Supplies   Appliances     25\n",
      "5   Office Supplies          Art     53\n",
      "6   Office Supplies      Binders     79\n",
      "7   Office Supplies    Envelopes     18\n",
      "8   Office Supplies    Fasteners     18\n",
      "9   Office Supplies       Labels     25\n",
      "10  Office Supplies        Paper     87\n",
      "11  Office Supplies      Storage     49\n",
      "12  Office Supplies     Supplies     16\n",
      "13       Technology  Accessories     46\n",
      "14       Technology      Copiers      2\n",
      "15       Technology     Machines     11\n",
      "16       Technology       Phones     57\n"
     ]
    }
   ],
   "source": [
    "specified_category = df.loc[(df['State'].isin(['California','Texas'])) & (df['Order Date'].dt.year == 2017), ['Category', 'Sub-Category', 'Order ID']]\n",
    "\n",
    "# pivot table version\n",
    "pivot = specified_category.pivot_table(index = ['Category', 'Sub-Category'], values = 'Order ID', aggfunc='count', margins=True)\n",
    "\n",
    "# groupby version\n",
    "cat_count = specified_category.groupby(['Category', 'Sub-Category']).size().reset_index(name='Count')\n",
    "\n",
    "print(pivot)\n",
    "print(cat_count)"
   ]
  },
  {
   "cell_type": "markdown",
   "metadata": {},
   "source": [
    "3. How much total sales, average sales, and standard deviation of sales your company make in 2017"
   ]
  },
  {
   "cell_type": "code",
   "execution_count": 11,
   "metadata": {
    "datalore": {
     "hide_input_from_viewers": false,
     "hide_output_from_viewers": false,
     "node_id": "rGku65ZD15EDHmGxnca1W9",
     "report_properties": {
      "relativeY": 0,
      "rowId": "j3lgdjcvQ2V6lFTHebDmVr"
     },
     "type": "CODE"
    }
   },
   "outputs": [
    {
     "data": {
      "text/html": [
       "<div>\n",
       "<style scoped>\n",
       "    .dataframe tbody tr th:only-of-type {\n",
       "        vertical-align: middle;\n",
       "    }\n",
       "\n",
       "    .dataframe tbody tr th {\n",
       "        vertical-align: top;\n",
       "    }\n",
       "\n",
       "    .dataframe thead th {\n",
       "        text-align: right;\n",
       "    }\n",
       "</style>\n",
       "<table border=\"1\" class=\"dataframe\">\n",
       "  <thead>\n",
       "    <tr style=\"text-align: right;\">\n",
       "      <th></th>\n",
       "      <th>total_sales</th>\n",
       "      <th>average_sales</th>\n",
       "      <th>std_sales</th>\n",
       "    </tr>\n",
       "  </thead>\n",
       "  <tbody>\n",
       "    <tr>\n",
       "      <th>0</th>\n",
       "      <td>484247.4981</td>\n",
       "      <td>242.974159</td>\n",
       "      <td>754.053357</td>\n",
       "    </tr>\n",
       "  </tbody>\n",
       "</table>\n",
       "</div>"
      ],
      "text/plain": [
       "   total_sales  average_sales   std_sales\n",
       "0  484247.4981     242.974159  754.053357"
      ]
     },
     "execution_count": 11,
     "metadata": {},
     "output_type": "execute_result"
    }
   ],
   "source": [
    "sales_in_2017 = df.loc[df['Order Date'].dt.year == 2017, 'Sales'].to_frame()\n",
    "\n",
    "# create new dataframe for sales aggregrate\n",
    "agg_sales_in_2017 = pd.DataFrame([\n",
    "    {'total_sales': [0],\n",
    "     'average_sales': [0],\n",
    "     'std_sales': [0]}\n",
    "])\n",
    "agg_sales_in_2017['total_sales'] = sales_in_2017['Sales'].sum()\n",
    "agg_sales_in_2017['average_sales'] = sales_in_2017['Sales'].mean()\n",
    "agg_sales_in_2017['std_sales'] = sales_in_2017['Sales'].std()\n",
    "agg_sales_in_2017"
   ]
  },
  {
   "cell_type": "markdown",
   "metadata": {},
   "source": [
    "4. Which Segment has the highest profit in 2018"
   ]
  },
  {
   "cell_type": "code",
   "execution_count": 12,
   "metadata": {
    "datalore": {
     "hide_input_from_viewers": false,
     "hide_output_from_viewers": false,
     "node_id": "7hw9Hkfsu2SfFs6h4hiGjR",
     "report_properties": {
      "relativeY": 0,
      "rowId": "M3RVtdVojG3TMaD5HJo7eR"
     },
     "type": "CODE"
    }
   },
   "outputs": [
    {
     "data": {
      "text/html": [
       "<div>\n",
       "<style scoped>\n",
       "    .dataframe tbody tr th:only-of-type {\n",
       "        vertical-align: middle;\n",
       "    }\n",
       "\n",
       "    .dataframe tbody tr th {\n",
       "        vertical-align: top;\n",
       "    }\n",
       "\n",
       "    .dataframe thead th {\n",
       "        text-align: right;\n",
       "    }\n",
       "</style>\n",
       "<table border=\"1\" class=\"dataframe\">\n",
       "  <thead>\n",
       "    <tr style=\"text-align: right;\">\n",
       "      <th></th>\n",
       "      <th>Segment</th>\n",
       "      <th>Profit</th>\n",
       "    </tr>\n",
       "  </thead>\n",
       "  <tbody>\n",
       "    <tr>\n",
       "      <th>0</th>\n",
       "      <td>Consumer</td>\n",
       "      <td>28460.1665</td>\n",
       "    </tr>\n",
       "  </tbody>\n",
       "</table>\n",
       "</div>"
      ],
      "text/plain": [
       "    Segment      Profit\n",
       "0  Consumer  28460.1665"
      ]
     },
     "execution_count": 12,
     "metadata": {},
     "output_type": "execute_result"
    }
   ],
   "source": [
    "seg_pro_2018 = df.loc[df['Order Date'].dt.year == 2018, ['Segment', 'Profit']]\n",
    "seg_pro_2018 = seg_pro_2018.groupby('Segment', as_index = False)['Profit'].sum()\n",
    "seg_pro_2018.loc[seg_pro_2018['Profit'] == seg_pro_2018['Profit'].max(), :]"
   ]
  },
  {
   "cell_type": "markdown",
   "metadata": {},
   "source": [
    "5. Which top 5 States have the least total sales between 15 April 2019 - 31 December 2019"
   ]
  },
  {
   "cell_type": "code",
   "execution_count": 13,
   "metadata": {
    "datalore": {
     "hide_input_from_viewers": false,
     "hide_output_from_viewers": false,
     "node_id": "z4nHibZuntFgcmcFqmjluF",
     "report_properties": {
      "relativeY": 0,
      "rowId": "KtV0dDj3G2dz2d9DXBjL5z"
     },
     "type": "CODE"
    }
   },
   "outputs": [
    {
     "data": {
      "text/html": [
       "<div>\n",
       "<style scoped>\n",
       "    .dataframe tbody tr th:only-of-type {\n",
       "        vertical-align: middle;\n",
       "    }\n",
       "\n",
       "    .dataframe tbody tr th {\n",
       "        vertical-align: top;\n",
       "    }\n",
       "\n",
       "    .dataframe thead th {\n",
       "        text-align: right;\n",
       "    }\n",
       "</style>\n",
       "<table border=\"1\" class=\"dataframe\">\n",
       "  <thead>\n",
       "    <tr style=\"text-align: right;\">\n",
       "      <th></th>\n",
       "      <th>State</th>\n",
       "      <th>Sales</th>\n",
       "    </tr>\n",
       "  </thead>\n",
       "  <tbody>\n",
       "    <tr>\n",
       "      <th>26</th>\n",
       "      <td>New Hampshire</td>\n",
       "      <td>49.05</td>\n",
       "    </tr>\n",
       "    <tr>\n",
       "      <th>28</th>\n",
       "      <td>New Mexico</td>\n",
       "      <td>64.08</td>\n",
       "    </tr>\n",
       "    <tr>\n",
       "      <th>7</th>\n",
       "      <td>District of Columbia</td>\n",
       "      <td>117.07</td>\n",
       "    </tr>\n",
       "    <tr>\n",
       "      <th>16</th>\n",
       "      <td>Louisiana</td>\n",
       "      <td>249.80</td>\n",
       "    </tr>\n",
       "    <tr>\n",
       "      <th>36</th>\n",
       "      <td>South Carolina</td>\n",
       "      <td>502.48</td>\n",
       "    </tr>\n",
       "  </tbody>\n",
       "</table>\n",
       "</div>"
      ],
      "text/plain": [
       "                   State   Sales\n",
       "26         New Hampshire   49.05\n",
       "28            New Mexico   64.08\n",
       "7   District of Columbia  117.07\n",
       "16             Louisiana  249.80\n",
       "36        South Carolina  502.48"
      ]
     },
     "execution_count": 13,
     "metadata": {},
     "output_type": "execute_result"
    }
   ],
   "source": [
    "sales_state_on_date = df.loc[(df['Order Date'] >= '2019-04-15') & (df['Order Date'] <= '2019-12-31'), ['State', 'Sales']]\n",
    "sales_state_on_date.groupby('State', as_index = False)['Sales'].sum().sort_values('Sales').head(5)"
   ]
  },
  {
   "cell_type": "markdown",
   "metadata": {},
   "source": [
    "6. What is the proportion of total sales (%) in West + Central in 2019 e.g. 25% "
   ]
  },
  {
   "cell_type": "code",
   "execution_count": 14,
   "metadata": {
    "datalore": {
     "hide_input_from_viewers": false,
     "hide_output_from_viewers": false,
     "node_id": "qVnMwNlkHJrf4UsUKVKWod",
     "report_properties": {
      "relativeY": 0,
      "rowId": "PpDTzojE5qdyQqPFPGn5Ry"
     },
     "type": "CODE"
    }
   },
   "outputs": [
    {
     "data": {
      "text/html": [
       "<div>\n",
       "<style scoped>\n",
       "    .dataframe tbody tr th:only-of-type {\n",
       "        vertical-align: middle;\n",
       "    }\n",
       "\n",
       "    .dataframe tbody tr th {\n",
       "        vertical-align: top;\n",
       "    }\n",
       "\n",
       "    .dataframe thead th {\n",
       "        text-align: right;\n",
       "    }\n",
       "</style>\n",
       "<table border=\"1\" class=\"dataframe\">\n",
       "  <thead>\n",
       "    <tr style=\"text-align: right;\">\n",
       "      <th></th>\n",
       "      <th>Region</th>\n",
       "      <th>Sales</th>\n",
       "      <th>Proportion</th>\n",
       "    </tr>\n",
       "  </thead>\n",
       "  <tbody>\n",
       "    <tr>\n",
       "      <th>0</th>\n",
       "      <td>Central</td>\n",
       "      <td>147429.38</td>\n",
       "      <td>24.20</td>\n",
       "    </tr>\n",
       "    <tr>\n",
       "      <th>1</th>\n",
       "      <td>East</td>\n",
       "      <td>180685.82</td>\n",
       "      <td>29.66</td>\n",
       "    </tr>\n",
       "    <tr>\n",
       "      <th>2</th>\n",
       "      <td>South</td>\n",
       "      <td>93610.22</td>\n",
       "      <td>15.37</td>\n",
       "    </tr>\n",
       "    <tr>\n",
       "      <th>3</th>\n",
       "      <td>West</td>\n",
       "      <td>187480.18</td>\n",
       "      <td>30.77</td>\n",
       "    </tr>\n",
       "  </tbody>\n",
       "</table>\n",
       "</div>"
      ],
      "text/plain": [
       "    Region      Sales  Proportion\n",
       "0  Central  147429.38       24.20\n",
       "1     East  180685.82       29.66\n",
       "2    South   93610.22       15.37\n",
       "3     West  187480.18       30.77"
      ]
     },
     "execution_count": 14,
     "metadata": {},
     "output_type": "execute_result"
    }
   ],
   "source": [
    "region_sales = df.loc[(df['Order Date'].dt.year == 2019), ['Region', 'Sales']]\n",
    "region_sales = region_sales.groupby('Region', as_index = False)['Sales'].sum()\n",
    "region_sales['Proportion'] = region_sales['Sales']/region_sales['Sales'].sum() * 100\n",
    "region_sales.round(2)"
   ]
  },
  {
   "cell_type": "markdown",
   "metadata": {},
   "source": [
    "7. Find top 10 popular products in terms of number of orders vs. total sales during 2019-2020"
   ]
  },
  {
   "cell_type": "code",
   "execution_count": 15,
   "metadata": {
    "datalore": {
     "hide_input_from_viewers": false,
     "hide_output_from_viewers": false,
     "node_id": "skXKAq9gsDaArvEV9UpPwK",
     "report_properties": {
      "relativeY": 0,
      "rowId": "B3lMndVDO3oNMX2QhO1cDe"
     },
     "type": "CODE"
    }
   },
   "outputs": [
    {
     "data": {
      "text/html": [
       "<div>\n",
       "<style scoped>\n",
       "    .dataframe tbody tr th:only-of-type {\n",
       "        vertical-align: middle;\n",
       "    }\n",
       "\n",
       "    .dataframe tbody tr th {\n",
       "        vertical-align: top;\n",
       "    }\n",
       "\n",
       "    .dataframe thead th {\n",
       "        text-align: right;\n",
       "    }\n",
       "</style>\n",
       "<table border=\"1\" class=\"dataframe\">\n",
       "  <thead>\n",
       "    <tr style=\"text-align: right;\">\n",
       "      <th></th>\n",
       "      <th>Product Name</th>\n",
       "      <th>Number of Orders</th>\n",
       "      <th>Total Sales</th>\n",
       "      <th>Proportion</th>\n",
       "    </tr>\n",
       "  </thead>\n",
       "  <tbody>\n",
       "    <tr>\n",
       "      <th>604</th>\n",
       "      <td>Eureka Disposable Bags for Sanitaire Vibra Gro...</td>\n",
       "      <td>1</td>\n",
       "      <td>2.0</td>\n",
       "      <td>62.0</td>\n",
       "    </tr>\n",
       "    <tr>\n",
       "      <th>1050</th>\n",
       "      <td>Maxell 4.7GB DVD+R 5/Pack</td>\n",
       "      <td>5</td>\n",
       "      <td>12.0</td>\n",
       "      <td>43.0</td>\n",
       "    </tr>\n",
       "    <tr>\n",
       "      <th>866</th>\n",
       "      <td>Hoover Replacement Belt for Commercial Guardsm...</td>\n",
       "      <td>4</td>\n",
       "      <td>10.0</td>\n",
       "      <td>41.0</td>\n",
       "    </tr>\n",
       "    <tr>\n",
       "      <th>462</th>\n",
       "      <td>Computer Printout Index Tabs</td>\n",
       "      <td>4</td>\n",
       "      <td>11.0</td>\n",
       "      <td>36.0</td>\n",
       "    </tr>\n",
       "    <tr>\n",
       "      <th>59</th>\n",
       "      <td>Acco Economy Flexible Poly Round Ring Binder</td>\n",
       "      <td>4</td>\n",
       "      <td>11.0</td>\n",
       "      <td>35.0</td>\n",
       "    </tr>\n",
       "    <tr>\n",
       "      <th>1194</th>\n",
       "      <td>OIC Binder Clips, Mini, 1/4\" Capacity, Black</td>\n",
       "      <td>5</td>\n",
       "      <td>16.0</td>\n",
       "      <td>32.0</td>\n",
       "    </tr>\n",
       "    <tr>\n",
       "      <th>923</th>\n",
       "      <td>Insertable Tab Indexes For Data Binders</td>\n",
       "      <td>5</td>\n",
       "      <td>17.0</td>\n",
       "      <td>29.0</td>\n",
       "    </tr>\n",
       "    <tr>\n",
       "      <th>1512</th>\n",
       "      <td>Storex Flexible Poly Binders with Double Pockets</td>\n",
       "      <td>3</td>\n",
       "      <td>11.0</td>\n",
       "      <td>28.0</td>\n",
       "    </tr>\n",
       "    <tr>\n",
       "      <th>266</th>\n",
       "      <td>Avery Reinforcements for Hole-Punch Pages</td>\n",
       "      <td>8</td>\n",
       "      <td>29.0</td>\n",
       "      <td>28.0</td>\n",
       "    </tr>\n",
       "    <tr>\n",
       "      <th>249</th>\n",
       "      <td>Avery Hi-Liter Comfort Grip Fluorescent Highli...</td>\n",
       "      <td>2</td>\n",
       "      <td>8.0</td>\n",
       "      <td>26.0</td>\n",
       "    </tr>\n",
       "  </tbody>\n",
       "</table>\n",
       "</div>"
      ],
      "text/plain": [
       "                                           Product Name  Number of Orders  \\\n",
       "604   Eureka Disposable Bags for Sanitaire Vibra Gro...                 1   \n",
       "1050                          Maxell 4.7GB DVD+R 5/Pack                 5   \n",
       "866   Hoover Replacement Belt for Commercial Guardsm...                 4   \n",
       "462                        Computer Printout Index Tabs                 4   \n",
       "59         Acco Economy Flexible Poly Round Ring Binder                 4   \n",
       "1194       OIC Binder Clips, Mini, 1/4\" Capacity, Black                 5   \n",
       "923             Insertable Tab Indexes For Data Binders                 5   \n",
       "1512   Storex Flexible Poly Binders with Double Pockets                 3   \n",
       "266           Avery Reinforcements for Hole-Punch Pages                 8   \n",
       "249   Avery Hi-Liter Comfort Grip Fluorescent Highli...                 2   \n",
       "\n",
       "      Total Sales  Proportion  \n",
       "604           2.0        62.0  \n",
       "1050         12.0        43.0  \n",
       "866          10.0        41.0  \n",
       "462          11.0        36.0  \n",
       "59           11.0        35.0  \n",
       "1194         16.0        32.0  \n",
       "923          17.0        29.0  \n",
       "1512         11.0        28.0  \n",
       "266          29.0        28.0  \n",
       "249           8.0        26.0  "
      ]
     },
     "execution_count": 15,
     "metadata": {},
     "output_type": "execute_result"
    }
   ],
   "source": [
    "order_vs_sales = df[['Product Name', 'Sales']]\n",
    "order_vs_sales = order_vs_sales.groupby('Product Name', as_index = False)['Sales'].agg(['count', 'sum'])\n",
    "order_vs_sales['proportion'] = order_vs_sales['count'] / order_vs_sales['sum'] * 100\n",
    "order_vs_sales.columns = ['Product Name', 'Number of Orders', 'Total Sales', 'Proportion']\n",
    "order_vs_sales.round().sort_values('Proportion', ascending = False).head(10)"
   ]
  },
  {
   "attachments": {},
   "cell_type": "markdown",
   "metadata": {
    "datalore": {
     "hide_input_from_viewers": true,
     "hide_output_from_viewers": false,
     "node_id": "95uzdgINvvo0ObpwC3mHkd",
     "report_properties": {
      "relativeY": 0,
      "rowId": "w1NPF53pv3lVyX06hCAwXc"
     },
     "type": "MD"
    }
   },
   "source": [
    "## Data Visualization"
   ]
  },
  {
   "cell_type": "code",
   "execution_count": 16,
   "metadata": {
    "datalore": {
     "hide_input_from_viewers": false,
     "hide_output_from_viewers": false,
     "node_id": "wRyhZzfkSjASSeNeyPKeqN",
     "report_properties": {
      "relativeY": 0,
      "rowId": "C4A8yQONLV57h8WLMF5ROy"
     },
     "type": "CODE"
    }
   },
   "outputs": [
    {
     "data": {
      "image/png": "[encoded data removed]",
      "text/plain": [
       "<Figure size 640x480 with 1 Axes>"
      ]
     },
     "metadata": {},
     "output_type": "display_data"
    }
   ],
   "source": [
    "# Plot Total Sales per Region\n",
    "\n",
    "# sort the data\n",
    "region_sales.sort_values('Sales', ascending = False, inplace = True)\n",
    "\n",
    "# use bar chart\n",
    "plt.bar(region_sales['Region'], region_sales['Sales'], color='lightblue')\n",
    "plt.grid(True, which='major', axis='y', linestyle='--', alpha=0.5)\n",
    "plt.xlabel('Region')\n",
    "plt.ylabel('Total Sales')\n",
    "plt.title('Total Sales per Region', fontsize=15)\n",
    "plt.show()"
   ]
  },
  {
   "cell_type": "code",
   "execution_count": 17,
   "metadata": {},
   "outputs": [
    {
     "data": {
      "image/png": "[encoded data removed]",
      "text/plain": [
       "<Figure size 640x480 with 1 Axes>"
      ]
     },
     "metadata": {},
     "output_type": "display_data"
    }
   ],
   "source": [
    "# Plot Total Profit per Quarter\n",
    "\n",
    "# create the 'Quarter' and 'Year' columns\n",
    "profit_quarter = df.loc[:, ['Profit', 'Order Date']]\n",
    "profit_quarter['Quarter'] = profit_quarter['Order Date'].dt.quarter\n",
    "profit_quarter['Year'] = profit_quarter['Order Date'].dt.year\n",
    "\n",
    "# drop 'Order Date' column to exclude it from the groupby result\n",
    "profit_quarter = profit_quarter.drop(columns=['Order Date'])\n",
    "\n",
    "# group by 'Year' and 'Quarter', summing the profit for each quarter\n",
    "profit_quarter = profit_quarter.groupby(['Year', 'Quarter'], as_index = False)['Profit'].sum().sort_values(['Year','Quarter'])\n",
    "\n",
    "# create Year-Quarter labels by concatenating 'Year' and 'Quarter' columns\n",
    "profit_quarter['Year-Quarter'] = profit_quarter['Year'].astype(str) + '-Q' + profit_quarter['Quarter'].astype(str)\n",
    "\n",
    "# use bar chart\n",
    "plt.bar(profit_quarter['Year-Quarter'], profit_quarter['Profit'], color = 'pink')\n",
    "plt.grid(True, which='major', axis='y', linestyle='--', alpha=0.3)\n",
    "plt.xticks(rotation=45, ha='right')\n",
    "plt.xlabel('Year-Quarter')\n",
    "plt.ylabel('Total Profit')\n",
    "plt.title('Quarterly Profit', fontsize = 15)\n",
    "plt.tight_layout()\n",
    "plt.show()"
   ]
  }
 ],
 "metadata": {
  "datalore": {
   "base_environment": "default",
   "computation_mode": "JUPYTER",
   "package_manager": "pip",
   "packages": [],
   "report_link": "https://datalore.jetbrains.com/report/TnuSb5CWcpZoOp5li7NMT0/jnd4YVHCh6Xs49KbTYygkW",
   "report_row_ids": [
    "nkB9lC6plJ2PM6W8tmNOQU",
    "VMJLIDFVuiJCN9EtR0ukXW",
    "jNGkwOnEPTjFDvv9qicomp",
    "QhMBXiJEcIvQhHLJTmiXYF",
    "35Haorw4HFj6OhJztgKpSA",
    "H0bpoU88zMWotPKkz1OTIO",
    "msYFVPNshgSvmEgTClhOLV",
    "sQhVD4NOjCQCQEa1MQ6HQq",
    "Wh5MPoVgeRzbtKHlY1rbi8",
    "YpTzpmxYUHdgUKEJJLBYU2",
    "PnLWbcIhSij46ugZxY9YqT",
    "iN4dtPC7YHeurUln067Mxv",
    "IMKgVePxmKuHCXCkPzVyw8",
    "IKju2OgKiBbw4rJiWXr2w6",
    "j3lgdjcvQ2V6lFTHebDmVr",
    "M3RVtdVojG3TMaD5HJo7eR",
    "KtV0dDj3G2dz2d9DXBjL5z",
    "PpDTzojE5qdyQqPFPGn5Ry",
    "B3lMndVDO3oNMX2QhO1cDe",
    "w1NPF53pv3lVyX06hCAwXc",
    "C4A8yQONLV57h8WLMF5ROy",
    "RAAj7bwG8ayJudBSTZJ0H6"
   ],
   "version": 3
  },
  "kernelspec": {
   "display_name": "Python 3",
   "language": "python",
   "name": "python3"
  },
  "language_info": {
   "codemirror_mode": {
    "name": "ipython",
    "version": 3
   },
   "file_extension": ".py",
   "mimetype": "text/x-python",
   "name": "python",
   "nbconvert_exporter": "python",
   "pygments_lexer": "ipython3",
   "version": "3.12.7"
  }
 },
 "nbformat": 4,
 "nbformat_minor": 4
}
